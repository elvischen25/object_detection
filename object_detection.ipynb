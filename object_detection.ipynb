{
  "nbformat": 4,
  "nbformat_minor": 0,
  "metadata": {
    "colab": {
      "private_outputs": true,
      "provenance": [],
      "mount_file_id": "12a3z4IGLkfirSwwxidlvXQd_gw6ZAAzt",
      "authorship_tag": "ABX9TyOoJMZs/GS3Qrf9Ite+DKDE",
      "include_colab_link": true
    },
    "kernelspec": {
      "name": "python3",
      "display_name": "Python 3"
    },
    "language_info": {
      "name": "python"
    },
    "accelerator": "GPU",
    "gpuClass": "standard"
  },
  "cells": [
    {
      "cell_type": "markdown",
      "metadata": {
        "id": "view-in-github",
        "colab_type": "text"
      },
      "source": [
        "<a href=\"https://colab.research.google.com/github/elvischen25/object_detection/blob/main/object_detection.ipynb\" target=\"_parent\"><img src=\"https://colab.research.google.com/assets/colab-badge.svg\" alt=\"Open In Colab\"/></a>"
      ]
    },
    {
      "cell_type": "code",
      "execution_count": null,
      "metadata": {
        "id": "lLAiIOU-PCGD"
      },
      "outputs": [],
      "source": [
        "!pip install ultralytics"
      ]
    },
    {
      "cell_type": "code",
      "source": [
        "\n",
        "from ultralytics import YOLO\n",
        "from PIL import Image\n",
        "import cv2\n",
        "model = YOLO(\"yolov8x.pt\")\n",
        "im1 = Image.open(\"/content/drive/MyDrive/Colab Notebooks/demo 3.jpg\")\n",
        "results = model.predict(source=im1, save=True) \n"
      ],
      "metadata": {
        "id": "gzBi9bKMPjWb"
      },
      "execution_count": null,
      "outputs": []
    },
    {
      "cell_type": "code",
      "source": [
        "from IPython.display import Image\n",
        "Image(\"/content/drive/MyDrive/Colab Notebooks/demo 3 yolo.jpg\")"
      ],
      "metadata": {
        "id": "8zFO3YvvFUhz"
      },
      "execution_count": null,
      "outputs": []
    }
  ]
}